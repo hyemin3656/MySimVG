{
 "cells": [
  {
   "cell_type": "code",
   "execution_count": 3,
   "id": "01dbd836-71e2-42d7-a3f2-7f7dbefa7bf0",
   "metadata": {},
   "outputs": [
    {
     "name": "stderr",
     "output_type": "stream",
     "text": [
      "/tmp/ipykernel_969253/3773878025.py:6: UserWarning: Implicit dimension choice for softmax has been deprecated. Change the call to include dim=X as an argument.\n",
      "  F.softmax(test)\n"
     ]
    },
    {
     "data": {
      "text/plain": [
       "tensor([0.0000, 0.5000])"
      ]
     },
     "execution_count": 3,
     "metadata": {},
     "output_type": "execute_result"
    }
   ],
   "source": [
    "import torch.nn.functional as F\n",
    "import torch\n",
    "\n",
    "test = torch.tensor([float(\"-inf\"), 0.0])\n",
    "\n",
    "F.softmax(test)\n",
    "F.sigmoid(test)"
   ]
  },
  {
   "cell_type": "code",
   "execution_count": 14,
   "id": "27d82556-023d-46da-97ed-0414c823df8d",
   "metadata": {},
   "outputs": [
    {
     "data": {
      "text/plain": [
       "torch.Size([2])"
      ]
     },
     "execution_count": 14,
     "metadata": {},
     "output_type": "execute_result"
    }
   ],
   "source": [
    "test.shape"
   ]
  },
  {
   "cell_type": "code",
   "execution_count": 15,
   "id": "c5874fe6-e0e3-4fc7-bf5c-005bdc49fea6",
   "metadata": {},
   "outputs": [
    {
     "data": {
      "text/plain": [
       "tensor([[[-1000.,     0.]]])"
      ]
     },
     "execution_count": 15,
     "metadata": {},
     "output_type": "execute_result"
    }
   ],
   "source": [
    "test.view(1, 1, 2)"
   ]
  },
  {
   "cell_type": "code",
   "execution_count": 16,
   "id": "1762bf13-692a-4ace-8e63-a0217ae78530",
   "metadata": {},
   "outputs": [
    {
     "data": {
      "text/plain": [
       "tensor([0., 0., 0., 0.])"
      ]
     },
     "execution_count": 16,
     "metadata": {},
     "output_type": "execute_result"
    }
   ],
   "source": [
    "test_box = torch.tensor([-1000.0, -1000.0, -1000.0, -1000.0])\n",
    "test_box.sigmoid()"
   ]
  },
  {
   "cell_type": "code",
   "execution_count": 18,
   "id": "b062c9cf-eb62-48b9-bde5-8e81d3775a81",
   "metadata": {},
   "outputs": [
    {
     "data": {
      "text/plain": [
       "tensor([0., 0., 0., 0.])"
      ]
     },
     "execution_count": 18,
     "metadata": {},
     "output_type": "execute_result"
    }
   ],
   "source": [
    "te = torch.tensor([0., 0., 0., 0.])\n",
    "\n",
    "F.l1_loss(te, te, reduction=\"none\")"
   ]
  },
  {
   "cell_type": "code",
   "execution_count": 19,
   "id": "7df95c09-1810-4df0-be56-763c714bc573",
   "metadata": {},
   "outputs": [],
   "source": [
    "def box_cxcywh_to_xyxy(bbox) -> torch.Tensor:\n",
    "    \"\"\"Convert bbox coordinates from (cx, cy, w, h) to (x1, y1, x2, y2)\n",
    "\n",
    "    Args:\n",
    "        bbox (torch.Tensor): Shape (n, 4) for bboxes.\n",
    "\n",
    "    Returns:\n",
    "        torch.Tensor: Converted bboxes.\n",
    "    \"\"\"\n",
    "    cx, cy, w, h = bbox.unbind(-1)\n",
    "    new_bbox = [(cx - 0.5 * w), (cy - 0.5 * h), (cx + 0.5 * w), (cy + 0.5 * h)]\n",
    "    return torch.stack(new_bbox, dim=-1)"
   ]
  },
  {
   "cell_type": "code",
   "execution_count": 20,
   "id": "029fc0c1-51dd-4c3a-a292-794ba444b66d",
   "metadata": {},
   "outputs": [
    {
     "data": {
      "text/plain": [
       "tensor([0., 0., 0., 0.])"
      ]
     },
     "execution_count": 20,
     "metadata": {},
     "output_type": "execute_result"
    }
   ],
   "source": [
    "box_cxcywh_to_xyxy(te)"
   ]
  },
  {
   "cell_type": "code",
   "execution_count": 21,
   "id": "e4bcaaf8-d033-47d8-bed6-d79cbd1b45d4",
   "metadata": {},
   "outputs": [],
   "source": [
    "def generalized_box_iou(boxes1, boxes2) -> torch.Tensor:\n",
    "    \"\"\"\n",
    "    Generalized IoU from https://giou.stanford.edu/\n",
    "\n",
    "    The input boxes should be in (x0, y0, x1, y1) format\n",
    "\n",
    "    Args:\n",
    "        boxes1: (torch.Tensor[N, 4]): first set of boxes\n",
    "        boxes2: (torch.Tensor[M, 4]): second set of boxes\n",
    "\n",
    "    Returns:\n",
    "        torch.Tensor: a NxM pairwise matrix containing the pairwise Generalized IoU\n",
    "        for every element in boxes1 and boxes2.\n",
    "    \"\"\"\n",
    "    # degenerate boxes gives inf / nan results\n",
    "    # so do an early check\n",
    "\n",
    "    assert (boxes1[:, 2:] >= boxes1[:, :2]).all()\n",
    "    assert (boxes2[:, 2:] >= boxes2[:, :2]).all()\n",
    "    iou, union = box_iou(boxes1, boxes2)\n",
    "\n",
    "    lt = torch.min(boxes1[:, None, :2], boxes2[:, :2])\n",
    "    rb = torch.max(boxes1[:, None, 2:], boxes2[:, 2:])\n",
    "\n",
    "    wh = (rb - lt).clamp(min=0)  # [N,M,2]\n",
    "    area = wh[:, :, 0] * wh[:, :, 1]\n",
    "\n",
    "    return iou - (area - union) / (area + 1e-6)"
   ]
  },
  {
   "cell_type": "code",
   "execution_count": 22,
   "id": "a56b9511-344a-424e-88b0-c44739559941",
   "metadata": {},
   "outputs": [
    {
     "ename": "IndexError",
     "evalue": "too many indices for tensor of dimension 1",
     "output_type": "error",
     "traceback": [
      "\u001b[0;31m---------------------------------------------------------------------------\u001b[0m",
      "\u001b[0;31mIndexError\u001b[0m                                Traceback (most recent call last)",
      "Cell \u001b[0;32mIn[22], line 1\u001b[0m\n\u001b[0;32m----> 1\u001b[0m \u001b[43mgeneralized_box_iou\u001b[49m\u001b[43m(\u001b[49m\u001b[43mte\u001b[49m\u001b[43m,\u001b[49m\u001b[43m \u001b[49m\u001b[43mte\u001b[49m\u001b[43m)\u001b[49m\n",
      "Cell \u001b[0;32mIn[21], line 18\u001b[0m, in \u001b[0;36mgeneralized_box_iou\u001b[0;34m(boxes1, boxes2)\u001b[0m\n\u001b[1;32m      2\u001b[0m \u001b[38;5;250m\u001b[39m\u001b[38;5;124;03m\"\"\"\u001b[39;00m\n\u001b[1;32m      3\u001b[0m \u001b[38;5;124;03mGeneralized IoU from https://giou.stanford.edu/\u001b[39;00m\n\u001b[1;32m      4\u001b[0m \n\u001b[0;32m   (...)\u001b[0m\n\u001b[1;32m     13\u001b[0m \u001b[38;5;124;03m    for every element in boxes1 and boxes2.\u001b[39;00m\n\u001b[1;32m     14\u001b[0m \u001b[38;5;124;03m\"\"\"\u001b[39;00m\n\u001b[1;32m     15\u001b[0m \u001b[38;5;66;03m# degenerate boxes gives inf / nan results\u001b[39;00m\n\u001b[1;32m     16\u001b[0m \u001b[38;5;66;03m# so do an early check\u001b[39;00m\n\u001b[0;32m---> 18\u001b[0m \u001b[38;5;28;01massert\u001b[39;00m (\u001b[43mboxes1\u001b[49m\u001b[43m[\u001b[49m\u001b[43m:\u001b[49m\u001b[43m,\u001b[49m\u001b[43m \u001b[49m\u001b[38;5;241;43m2\u001b[39;49m\u001b[43m:\u001b[49m\u001b[43m]\u001b[49m \u001b[38;5;241m>\u001b[39m\u001b[38;5;241m=\u001b[39m boxes1[:, :\u001b[38;5;241m2\u001b[39m])\u001b[38;5;241m.\u001b[39mall()\n\u001b[1;32m     19\u001b[0m \u001b[38;5;28;01massert\u001b[39;00m (boxes2[:, \u001b[38;5;241m2\u001b[39m:] \u001b[38;5;241m>\u001b[39m\u001b[38;5;241m=\u001b[39m boxes2[:, :\u001b[38;5;241m2\u001b[39m])\u001b[38;5;241m.\u001b[39mall()\n\u001b[1;32m     20\u001b[0m iou, union \u001b[38;5;241m=\u001b[39m box_iou(boxes1, boxes2)\n",
      "\u001b[0;31mIndexError\u001b[0m: too many indices for tensor of dimension 1"
     ]
    }
   ],
   "source": [
    "generalized_box_iou(te, te)"
   ]
  },
  {
   "cell_type": "code",
   "execution_count": null,
   "id": "473d550d-6a03-4479-ab45-445b768dbf0b",
   "metadata": {},
   "outputs": [],
   "source": []
  }
 ],
 "metadata": {
  "kernelspec": {
   "display_name": "vg_3.9",
   "language": "python",
   "name": "vg"
  },
  "language_info": {
   "codemirror_mode": {
    "name": "ipython",
    "version": 3
   },
   "file_extension": ".py",
   "mimetype": "text/x-python",
   "name": "python",
   "nbconvert_exporter": "python",
   "pygments_lexer": "ipython3",
   "version": "3.9.21"
  }
 },
 "nbformat": 4,
 "nbformat_minor": 5
}
