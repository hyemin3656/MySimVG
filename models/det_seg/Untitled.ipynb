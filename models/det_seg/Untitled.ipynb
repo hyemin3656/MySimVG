{
 "cells": [
  {
   "cell_type": "code",
   "execution_count": 5,
   "id": "55318f63-6af3-4c6d-8891-c7f2e62cf9e9",
   "metadata": {},
   "outputs": [
    {
     "data": {
      "text/plain": [
       "tensor(1)"
      ]
     },
     "execution_count": 5,
     "metadata": {},
     "output_type": "execute_result"
    }
   ],
   "source": [
    "import torch\n",
    "\n",
    "torch.max(torch.tensor([1]))"
   ]
  },
  {
   "cell_type": "code",
   "execution_count": 7,
   "id": "66000617-9693-453e-9d5a-3ef9a8c3a386",
   "metadata": {},
   "outputs": [
    {
     "data": {
      "text/plain": [
       "[0, 0]"
      ]
     },
     "execution_count": 7,
     "metadata": {},
     "output_type": "execute_result"
    }
   ],
   "source": [
    "sorted([0, 0])"
   ]
  },
  {
   "cell_type": "code",
   "execution_count": 8,
   "id": "d7424568-e307-4269-b24b-d780edf3b37f",
   "metadata": {},
   "outputs": [],
   "source": [
    "import torch.nn as nn\n",
    "\n",
    "sentence_token = nn.Parameter(torch.zeros(1, 1, 3))\n",
    "sentence_token = sentence_token.expand(\n",
    "    32, -1, -1\n",
    ") "
   ]
  },
  {
   "cell_type": "code",
   "execution_count": 10,
   "id": "6bbd8537-c66c-4165-a3de-eee683b62d08",
   "metadata": {},
   "outputs": [
    {
     "data": {
      "text/plain": [
       "torch.Size([32, 1, 3])"
      ]
     },
     "execution_count": 10,
     "metadata": {},
     "output_type": "execute_result"
    }
   ],
   "source": [
    "sentence_token.shape"
   ]
  },
  {
   "cell_type": "code",
   "execution_count": 11,
   "id": "93f3ae04-458a-4458-b15c-33d14feb4d31",
   "metadata": {},
   "outputs": [
    {
     "data": {
      "text/plain": [
       "torch.Size([32, 3])"
      ]
     },
     "execution_count": 11,
     "metadata": {},
     "output_type": "execute_result"
    }
   ],
   "source": [
    "sent_feat = sentence_token[:, -1, :]\n",
    "sent_feat.shape"
   ]
  },
  {
   "cell_type": "code",
   "execution_count": null,
   "id": "eb5fa257-e2f6-4f05-ade7-44db246f1b58",
   "metadata": {},
   "outputs": [],
   "source": []
  }
 ],
 "metadata": {
  "kernelspec": {
   "display_name": "vg_3.9",
   "language": "python",
   "name": "vg"
  },
  "language_info": {
   "codemirror_mode": {
    "name": "ipython",
    "version": 3
   },
   "file_extension": ".py",
   "mimetype": "text/x-python",
   "name": "python",
   "nbconvert_exporter": "python",
   "pygments_lexer": "ipython3",
   "version": "3.9.21"
  }
 },
 "nbformat": 4,
 "nbformat_minor": 5
}
